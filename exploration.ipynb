{
 "cells": [
  {
   "cell_type": "code",
   "execution_count": 1,
   "metadata": {},
   "outputs": [
    {
     "name": "stderr",
     "output_type": "stream",
     "text": [
      "/Users/shijianzhong/anaconda/envs/py36/lib/python3.6/site-packages/IPython/html.py:14: ShimWarning: The `IPython.html` package has been deprecated since IPython 4.0. You should import from `notebook` instead. `IPython.html.widgets` has moved to `ipywidgets`.\n",
      "  \"`IPython.html.widgets` has moved to `ipywidgets`.\", ShimWarning)\n"
     ]
    }
   ],
   "source": [
    "import numpy as np\n",
    "import pandas as pd\n",
    "import matplotlib.pyplot as plt\n",
    "import seaborn as sns\n",
    "%matplotlib inline\n",
    "color = sns.color_palette()"
   ]
  },
  {
   "cell_type": "markdown",
   "metadata": {},
   "source": [
    "##### Library:"
   ]
  },
  {
   "cell_type": "code",
   "execution_count": 19,
   "metadata": {
    "collapsed": true
   },
   "outputs": [],
   "source": [
    "# component analysis\n",
    "def component(li):\n",
    "    for item in li:\n",
    "        if item == '':\n",
    "            item = 'NaN'\n",
    "    \n",
    "    dic = {}\n",
    "    for item in li:\n",
    "        if item in dic:\n",
    "            dic[item] = dic[item] + 1\n",
    "        else:\n",
    "            dic[item] = 1\n",
    "               \n",
    "    keys = []\n",
    "    values = []\n",
    "    \n",
    "    for key, value in dic.items():\n",
    "        keys.append(key)\n",
    "        values.append(value)\n",
    "    \n",
    "    \n",
    "    keys = np.array(keys)\n",
    "    values = np.array(values)\n",
    "    \n",
    "    index = np.argsort(-values)\n",
    "    keys = keys[index]\n",
    "    values = values[index]\n",
    "    \n",
    "    total = sum(values)\n",
    "    count = 0\n",
    "    for i in range(np.size(keys)):\n",
    "        count = count + values[i]\n",
    "        print(keys[i],'number:',values[i],'portion:',values[i]/total,'cumulate:',count/total)\n",
    "               \n",
    "    return keys, values"
   ]
  },
  {
   "cell_type": "markdown",
   "metadata": {},
   "source": [
    "##### Read dataset:"
   ]
  },
  {
   "cell_type": "code",
   "execution_count": 16,
   "metadata": {},
   "outputs": [
    {
     "data": {
      "text/html": [
       "<div>\n",
       "<table border=\"1\" class=\"dataframe\">\n",
       "  <thead>\n",
       "    <tr style=\"text-align: right;\">\n",
       "      <th></th>\n",
       "      <th>txid</th>\n",
       "      <th>bookingdate</th>\n",
       "      <th>issuercountrycode</th>\n",
       "      <th>txvariantcode</th>\n",
       "      <th>bin</th>\n",
       "      <th>amount</th>\n",
       "      <th>currencycode</th>\n",
       "      <th>shoppercountrycode</th>\n",
       "      <th>shopperinteraction</th>\n",
       "      <th>simple_journal</th>\n",
       "      <th>cardverificationcodesupplied</th>\n",
       "      <th>cvcresponsecode</th>\n",
       "      <th>creationdate</th>\n",
       "      <th>accountcode</th>\n",
       "      <th>mail_id</th>\n",
       "      <th>ip_id</th>\n",
       "      <th>card_id</th>\n",
       "    </tr>\n",
       "  </thead>\n",
       "  <tbody>\n",
       "    <tr>\n",
       "      <th>0</th>\n",
       "      <td>1</td>\n",
       "      <td>2015-11-09 14:26:51</td>\n",
       "      <td>MX</td>\n",
       "      <td>mccredit</td>\n",
       "      <td>530056.0</td>\n",
       "      <td>64800.0</td>\n",
       "      <td>MXN</td>\n",
       "      <td>MX</td>\n",
       "      <td>Ecommerce</td>\n",
       "      <td>Chargeback</td>\n",
       "      <td>True</td>\n",
       "      <td>0</td>\n",
       "      <td>2015-07-01 23:03:11</td>\n",
       "      <td>MexicoAccount</td>\n",
       "      <td>email68370</td>\n",
       "      <td>ip111778</td>\n",
       "      <td>card184798</td>\n",
       "    </tr>\n",
       "    <tr>\n",
       "      <th>1</th>\n",
       "      <td>2</td>\n",
       "      <td>2015-11-09 14:27:38</td>\n",
       "      <td>MX</td>\n",
       "      <td>mccredit</td>\n",
       "      <td>547046.0</td>\n",
       "      <td>44900.0</td>\n",
       "      <td>MXN</td>\n",
       "      <td>MX</td>\n",
       "      <td>Ecommerce</td>\n",
       "      <td>Chargeback</td>\n",
       "      <td>True</td>\n",
       "      <td>0</td>\n",
       "      <td>2015-07-02 04:50:55</td>\n",
       "      <td>MexicoAccount</td>\n",
       "      <td>email101299</td>\n",
       "      <td>ip78749</td>\n",
       "      <td>card151595</td>\n",
       "    </tr>\n",
       "    <tr>\n",
       "      <th>2</th>\n",
       "      <td>3</td>\n",
       "      <td>2015-11-23 16:34:16</td>\n",
       "      <td>MX</td>\n",
       "      <td>mccredit</td>\n",
       "      <td>528843.0</td>\n",
       "      <td>149900.0</td>\n",
       "      <td>MXN</td>\n",
       "      <td>MX</td>\n",
       "      <td>Ecommerce</td>\n",
       "      <td>Chargeback</td>\n",
       "      <td>True</td>\n",
       "      <td>0</td>\n",
       "      <td>2015-07-02 14:30:28</td>\n",
       "      <td>MexicoAccount</td>\n",
       "      <td>email278604</td>\n",
       "      <td>ip70594</td>\n",
       "      <td>card242142</td>\n",
       "    </tr>\n",
       "    <tr>\n",
       "      <th>3</th>\n",
       "      <td>4</td>\n",
       "      <td>2015-11-23 16:34:51</td>\n",
       "      <td>MX</td>\n",
       "      <td>mccredit</td>\n",
       "      <td>547146.0</td>\n",
       "      <td>109900.0</td>\n",
       "      <td>MXN</td>\n",
       "      <td>MX</td>\n",
       "      <td>Ecommerce</td>\n",
       "      <td>Chargeback</td>\n",
       "      <td>True</td>\n",
       "      <td>0</td>\n",
       "      <td>2015-07-03 07:53:37</td>\n",
       "      <td>MexicoAccount</td>\n",
       "      <td>email47409</td>\n",
       "      <td>ip113648</td>\n",
       "      <td>card181744</td>\n",
       "    </tr>\n",
       "    <tr>\n",
       "      <th>4</th>\n",
       "      <td>5</td>\n",
       "      <td>2015-11-09 14:26:08</td>\n",
       "      <td>MX</td>\n",
       "      <td>visaclassic</td>\n",
       "      <td>477291.0</td>\n",
       "      <td>89900.0</td>\n",
       "      <td>MXN</td>\n",
       "      <td>MX</td>\n",
       "      <td>Ecommerce</td>\n",
       "      <td>Chargeback</td>\n",
       "      <td>True</td>\n",
       "      <td>0</td>\n",
       "      <td>2015-07-08 18:35:35</td>\n",
       "      <td>MexicoAccount</td>\n",
       "      <td>email205501</td>\n",
       "      <td>ip83553</td>\n",
       "      <td>card97271</td>\n",
       "    </tr>\n",
       "  </tbody>\n",
       "</table>\n",
       "</div>"
      ],
      "text/plain": [
       "   txid          bookingdate issuercountrycode txvariantcode       bin  \\\n",
       "0     1  2015-11-09 14:26:51                MX      mccredit  530056.0   \n",
       "1     2  2015-11-09 14:27:38                MX      mccredit  547046.0   \n",
       "2     3  2015-11-23 16:34:16                MX      mccredit  528843.0   \n",
       "3     4  2015-11-23 16:34:51                MX      mccredit  547146.0   \n",
       "4     5  2015-11-09 14:26:08                MX   visaclassic  477291.0   \n",
       "\n",
       "     amount currencycode shoppercountrycode shopperinteraction simple_journal  \\\n",
       "0   64800.0          MXN                 MX          Ecommerce     Chargeback   \n",
       "1   44900.0          MXN                 MX          Ecommerce     Chargeback   \n",
       "2  149900.0          MXN                 MX          Ecommerce     Chargeback   \n",
       "3  109900.0          MXN                 MX          Ecommerce     Chargeback   \n",
       "4   89900.0          MXN                 MX          Ecommerce     Chargeback   \n",
       "\n",
       "  cardverificationcodesupplied  cvcresponsecode         creationdate  \\\n",
       "0                         True                0  2015-07-01 23:03:11   \n",
       "1                         True                0  2015-07-02 04:50:55   \n",
       "2                         True                0  2015-07-02 14:30:28   \n",
       "3                         True                0  2015-07-03 07:53:37   \n",
       "4                         True                0  2015-07-08 18:35:35   \n",
       "\n",
       "     accountcode      mail_id     ip_id     card_id  \n",
       "0  MexicoAccount   email68370  ip111778  card184798  \n",
       "1  MexicoAccount  email101299   ip78749  card151595  \n",
       "2  MexicoAccount  email278604   ip70594  card242142  \n",
       "3  MexicoAccount   email47409  ip113648  card181744  \n",
       "4  MexicoAccount  email205501   ip83553   card97271  "
      ]
     },
     "execution_count": 16,
     "metadata": {},
     "output_type": "execute_result"
    }
   ],
   "source": [
    "df = pd.read_csv(\"../data_for_student_case.csv\")\n",
    "df.head()\n",
    "#- bookingdate: only relevant for Chargebacks. Time stamp when the chargeback was reported. During simulation you may only use this knowledge after this date. So for example if on an email address a transaction ended in a chargeback, you can only block that email address after the booking date of the chargeback.\n",
    "#- issuercountrycode: country where the card was issued\n",
    "#- txvariantcode: the card type that was used (subbrand of visa or master card)\n",
    "#- bin: card issuer identifier\n",
    "#- amount/currencycode: transaction amount in minor units (so 100 EUR = 100 euro cent)\n",
    "#- shoppercountrycode: IP address country\n",
    "#- shopperinteraction: Ecommerce if it was an online transaction, ContAuth if it was a (monthly) subscription\n",
    "#- simple_journal: Payment status. Authorised = “transaction approved and no fraud reported”, Refused = “transaction was declined, can be fraud, but can also be insufficient funds, etc”, Chargeback = “transaction was approved, but turned out to be fraud”\n",
    "#- cardverificationresponsesupplied: did the shopper provide his 3 digit CVC/CVV2 code?\n",
    "#- cvcresponsecode: Validation result of the CVC/CVV2 code: 0 = Unknown, 1=Match, 2=No Match, 3-6=Not checked\n",
    "#- creationdate: Date of transaction\n",
    "#- accountcode: merchant’s webshop\n",
    "#- mail_id: Email address\n",
    "#- ip_id: Ip address\n",
    "#- card_id: Card number"
   ]
  },
  {
   "cell_type": "markdown",
   "metadata": {
    "collapsed": true
   },
   "source": [
    "numercial features: amount  \n",
    "time features: bookingdate, creationdate  \n",
    "id features: mail_id, ip_id, card_id  \n",
    "categorical features: others(9)"
   ]
  },
  {
   "cell_type": "markdown",
   "metadata": {},
   "source": [
    "##### Labels: "
   ]
  },
  {
   "cell_type": "code",
   "execution_count": 6,
   "metadata": {},
   "outputs": [
    {
     "name": "stdout",
     "output_type": "stream",
     "text": [
      "visadebit portion: 0.594361909485 cumulate: 0.594361909485\n",
      "mccredit portion: 0.219424757733 cumulate: 0.813786667218\n",
      "mcdebit portion: 0.0574381332176 cumulate: 0.871224800435\n",
      "visaclassic portion: 0.0561536183372 cumulate: 0.927378418773\n",
      "visaplatinum portion: 0.0348678637106 cumulate: 0.962246282483\n",
      "visagold portion: 0.0225392758504 cumulate: 0.984785558334\n",
      "visa portion: 0.00695291030436 cumulate: 0.991738468638\n",
      "visabusiness portion: 0.00354705181451 cumulate: 0.995285520452\n",
      "visasignature portion: 0.00213167482833 cumulate: 0.997417195281\n",
      "visacorporate portion: 0.00144981438243 cumulate: 0.998867009663\n",
      "mc portion: 0.000575104517498 cumulate: 0.999442114181\n",
      "visapurchasing portion: 0.00042013623434 cumulate: 0.999862250415\n",
      "electron portion: 9.29809698948e-05 cumulate: 0.999955231385\n",
      "vpay portion: 2.41061773801e-05 cumulate: 0.999979337562\n",
      "cirrus portion: 2.06624377544e-05 cumulate: 1.0\n"
     ]
    },
    {
     "data": {
      "text/plain": [
       "(array(['visadebit', 'mccredit', 'mcdebit', 'visaclassic', 'visaplatinum',\n",
       "        'visagold', 'visa', 'visabusiness', 'visasignature',\n",
       "        'visacorporate', 'mc', 'visapurchasing', 'electron', 'vpay',\n",
       "        'cirrus'], \n",
       "       dtype='<U14'),\n",
       " array([172592,  63717,  16679,  16306,  10125,   6545,   2019,   1030,\n",
       "           619,    421,    167,    122,     27,      7,      6]))"
      ]
     },
     "execution_count": 6,
     "metadata": {},
     "output_type": "execute_result"
    }
   ],
   "source": [
    "journal = df['simple_journal'].value_counts()\n",
    "journal\n",
    "component(df['txvariantcode'])"
   ]
  },
  {
   "cell_type": "markdown",
   "metadata": {},
   "source": [
    "##### change currency"
   ]
  },
  {
   "cell_type": "code",
   "execution_count": 15,
   "metadata": {},
   "outputs": [
    {
     "name": "stderr",
     "output_type": "stream",
     "text": [
      "/Users/shijianzhong/anaconda/envs/py36/lib/python3.6/site-packages/pandas/core/indexing.py:141: SettingWithCopyWarning: \n",
      "A value is trying to be set on a copy of a slice from a DataFrame\n",
      "\n",
      "See the caveats in the documentation: http://pandas.pydata.org/pandas-docs/stable/indexing.html#indexing-view-versus-copy\n",
      "  self._setitem_with_indexer(indexer, value)\n"
     ]
    }
   ],
   "source": [
    "df['amount'].ix[df['currencycode'] == 'MXN'] = df['amount'].ix[df['currencycode'] == 'MXN'] * 0.052131\n",
    "df['amount'].ix[df['currencycode'] == 'AUD'] = df['amount'].ix[df['currencycode'] == 'AUD'] * 0.7349\n",
    "df['amount'].ix[df['currencycode'] == 'NZD'] = df['amount'].ix[df['currencycode'] == 'NZD'] * 0.68966\n",
    "df['amount'].ix[df['currencycode'] == 'GBP'] = df['amount'].ix[df['currencycode'] == 'GBP'] * 1.292625\n",
    "df['amount'].ix[df['currencycode'] == 'SEK'] = df['amount'].ix[df['currencycode'] == 'SEK'] * 0.112851\n"
   ]
  },
  {
   "cell_type": "code",
   "execution_count": 10,
   "metadata": {},
   "outputs": [
    {
     "data": {
      "text/html": [
       "<div>\n",
       "<table border=\"1\" class=\"dataframe\">\n",
       "  <thead>\n",
       "    <tr style=\"text-align: right;\">\n",
       "      <th></th>\n",
       "      <th>txid</th>\n",
       "      <th>bookingdate</th>\n",
       "      <th>issuercountrycode</th>\n",
       "      <th>txvariantcode</th>\n",
       "      <th>bin</th>\n",
       "      <th>amount</th>\n",
       "      <th>currencycode</th>\n",
       "      <th>shoppercountrycode</th>\n",
       "      <th>shopperinteraction</th>\n",
       "      <th>simple_journal</th>\n",
       "      <th>cardverificationcodesupplied</th>\n",
       "      <th>cvcresponsecode</th>\n",
       "      <th>creationdate</th>\n",
       "      <th>accountcode</th>\n",
       "      <th>mail_id</th>\n",
       "      <th>ip_id</th>\n",
       "      <th>card_id</th>\n",
       "    </tr>\n",
       "  </thead>\n",
       "  <tbody>\n",
       "    <tr>\n",
       "      <th>0</th>\n",
       "      <td>1</td>\n",
       "      <td>2015-11-09 14:26:51</td>\n",
       "      <td>MX</td>\n",
       "      <td>mccredit</td>\n",
       "      <td>530056.0</td>\n",
       "      <td>3378.0888</td>\n",
       "      <td>MXN</td>\n",
       "      <td>MX</td>\n",
       "      <td>Ecommerce</td>\n",
       "      <td>Chargeback</td>\n",
       "      <td>True</td>\n",
       "      <td>0</td>\n",
       "      <td>2015-07-01 23:03:11</td>\n",
       "      <td>MexicoAccount</td>\n",
       "      <td>email68370</td>\n",
       "      <td>ip111778</td>\n",
       "      <td>card184798</td>\n",
       "    </tr>\n",
       "    <tr>\n",
       "      <th>1</th>\n",
       "      <td>2</td>\n",
       "      <td>2015-11-09 14:27:38</td>\n",
       "      <td>MX</td>\n",
       "      <td>mccredit</td>\n",
       "      <td>547046.0</td>\n",
       "      <td>2340.6819</td>\n",
       "      <td>MXN</td>\n",
       "      <td>MX</td>\n",
       "      <td>Ecommerce</td>\n",
       "      <td>Chargeback</td>\n",
       "      <td>True</td>\n",
       "      <td>0</td>\n",
       "      <td>2015-07-02 04:50:55</td>\n",
       "      <td>MexicoAccount</td>\n",
       "      <td>email101299</td>\n",
       "      <td>ip78749</td>\n",
       "      <td>card151595</td>\n",
       "    </tr>\n",
       "    <tr>\n",
       "      <th>2</th>\n",
       "      <td>3</td>\n",
       "      <td>2015-11-23 16:34:16</td>\n",
       "      <td>MX</td>\n",
       "      <td>mccredit</td>\n",
       "      <td>528843.0</td>\n",
       "      <td>7814.4369</td>\n",
       "      <td>MXN</td>\n",
       "      <td>MX</td>\n",
       "      <td>Ecommerce</td>\n",
       "      <td>Chargeback</td>\n",
       "      <td>True</td>\n",
       "      <td>0</td>\n",
       "      <td>2015-07-02 14:30:28</td>\n",
       "      <td>MexicoAccount</td>\n",
       "      <td>email278604</td>\n",
       "      <td>ip70594</td>\n",
       "      <td>card242142</td>\n",
       "    </tr>\n",
       "    <tr>\n",
       "      <th>3</th>\n",
       "      <td>4</td>\n",
       "      <td>2015-11-23 16:34:51</td>\n",
       "      <td>MX</td>\n",
       "      <td>mccredit</td>\n",
       "      <td>547146.0</td>\n",
       "      <td>5729.1969</td>\n",
       "      <td>MXN</td>\n",
       "      <td>MX</td>\n",
       "      <td>Ecommerce</td>\n",
       "      <td>Chargeback</td>\n",
       "      <td>True</td>\n",
       "      <td>0</td>\n",
       "      <td>2015-07-03 07:53:37</td>\n",
       "      <td>MexicoAccount</td>\n",
       "      <td>email47409</td>\n",
       "      <td>ip113648</td>\n",
       "      <td>card181744</td>\n",
       "    </tr>\n",
       "    <tr>\n",
       "      <th>4</th>\n",
       "      <td>5</td>\n",
       "      <td>2015-11-09 14:26:08</td>\n",
       "      <td>MX</td>\n",
       "      <td>visaclassic</td>\n",
       "      <td>477291.0</td>\n",
       "      <td>4686.5769</td>\n",
       "      <td>MXN</td>\n",
       "      <td>MX</td>\n",
       "      <td>Ecommerce</td>\n",
       "      <td>Chargeback</td>\n",
       "      <td>True</td>\n",
       "      <td>0</td>\n",
       "      <td>2015-07-08 18:35:35</td>\n",
       "      <td>MexicoAccount</td>\n",
       "      <td>email205501</td>\n",
       "      <td>ip83553</td>\n",
       "      <td>card97271</td>\n",
       "    </tr>\n",
       "  </tbody>\n",
       "</table>\n",
       "</div>"
      ],
      "text/plain": [
       "   txid          bookingdate issuercountrycode txvariantcode       bin  \\\n",
       "0     1  2015-11-09 14:26:51                MX      mccredit  530056.0   \n",
       "1     2  2015-11-09 14:27:38                MX      mccredit  547046.0   \n",
       "2     3  2015-11-23 16:34:16                MX      mccredit  528843.0   \n",
       "3     4  2015-11-23 16:34:51                MX      mccredit  547146.0   \n",
       "4     5  2015-11-09 14:26:08                MX   visaclassic  477291.0   \n",
       "\n",
       "      amount currencycode shoppercountrycode shopperinteraction  \\\n",
       "0  3378.0888          MXN                 MX          Ecommerce   \n",
       "1  2340.6819          MXN                 MX          Ecommerce   \n",
       "2  7814.4369          MXN                 MX          Ecommerce   \n",
       "3  5729.1969          MXN                 MX          Ecommerce   \n",
       "4  4686.5769          MXN                 MX          Ecommerce   \n",
       "\n",
       "  simple_journal cardverificationcodesupplied  cvcresponsecode  \\\n",
       "0     Chargeback                         True                0   \n",
       "1     Chargeback                         True                0   \n",
       "2     Chargeback                         True                0   \n",
       "3     Chargeback                         True                0   \n",
       "4     Chargeback                         True                0   \n",
       "\n",
       "          creationdate    accountcode      mail_id     ip_id     card_id  \n",
       "0  2015-07-01 23:03:11  MexicoAccount   email68370  ip111778  card184798  \n",
       "1  2015-07-02 04:50:55  MexicoAccount  email101299   ip78749  card151595  \n",
       "2  2015-07-02 14:30:28  MexicoAccount  email278604   ip70594  card242142  \n",
       "3  2015-07-03 07:53:37  MexicoAccount   email47409  ip113648  card181744  \n",
       "4  2015-07-08 18:35:35  MexicoAccount  email205501   ip83553   card97271  "
      ]
     },
     "execution_count": 10,
     "metadata": {},
     "output_type": "execute_result"
    }
   ],
   "source": [
    "df.head()"
   ]
  },
  {
   "cell_type": "markdown",
   "metadata": {},
   "source": [
    "Here we consider 'Chargeback' as positive and 'Settled' as negative. 'Refuse' here means unlabeled. "
   ]
  },
  {
   "cell_type": "markdown",
   "metadata": {},
   "source": [
    "##### Amount: "
   ]
  },
  {
   "cell_type": "code",
   "execution_count": 16,
   "metadata": {},
   "outputs": [
    {
     "data": {
      "image/png": "[encoded data removed]",
      "text/plain": [
       "<matplotlib.figure.Figure at 0x122376eb8>"
      ]
     },
     "metadata": {},
     "output_type": "display_data"
    },
    {
     "data": {
      "image/png": "[encoded data removed]",
      "text/plain": [
       "<matplotlib.figure.Figure at 0x116a12eb8>"
      ]
     },
     "metadata": {},
     "output_type": "display_data"
    },
    {
     "data": {
      "image/png": "[encoded data removed]",
      "text/plain": [
       "<matplotlib.figure.Figure at 0x117037eb8>"
      ]
     },
     "metadata": {},
     "output_type": "display_data"
    }
   ],
   "source": [
    "amount = df['amount']\n",
    "plt.figure(figsize=(8,4))\n",
    "plt.hist(amount.values, bins=20)\n",
    "plt.ylabel('Number of Occurrences', fontsize=12)\n",
    "plt.xlabel('amount', fontsize=12)\n",
    "plt.title('amount')\n",
    "plt.show()\n",
    "\n",
    "amount_20w = df['amount'].ix[df['amount']<=200000]\n",
    "plt.figure(figsize=(8,4))\n",
    "plt.hist(amount_20w.values, bins=20)\n",
    "plt.ylabel('Number of Occurrences', fontsize=12)\n",
    "plt.xlabel('amount', fontsize=12)\n",
    "plt.title('amount (<200000)')\n",
    "plt.show()\n",
    "\n",
    "amount_2w = df['amount'].ix[df['amount']<=20000]\n",
    "plt.figure(figsize=(8,4))\n",
    "plt.hist(amount_2w.values, bins=20)\n",
    "plt.ylabel('Number of Occurrences', fontsize=12)\n",
    "plt.xlabel('amount', fontsize=12)\n",
    "plt.title('amount (<20000)')\n",
    "plt.show()"
   ]
  },
  {
   "cell_type": "markdown",
   "metadata": {},
   "source": [
    "We can see the amount skew significantly to left. \n",
    "Now let 's see how they vary through labels. "
   ]
  },
  {
   "cell_type": "code",
   "execution_count": 17,
   "metadata": {},
   "outputs": [
    {
     "data": {
      "image/png": "[encoded data removed]",
      "text/plain": [
       "<matplotlib.figure.Figure at 0x116346860>"
      ]
     },
     "metadata": {},
     "output_type": "display_data"
    }
   ],
   "source": [
    "plt.figure(figsize=(8,4))\n",
    "g = sns.boxplot(x='simple_journal', y='amount', data=df)\n",
    "g.figure.get_axes()[0].set_yscale('log')\n",
    "plt.xlabel('labels')\n",
    "plt.ylabel('amount')\n",
    "plt.title('amount of different labels')\n",
    "plt.show()"
   ]
  },
  {
   "cell_type": "markdown",
   "metadata": {},
   "source": [
    "We can find that positive seems to have larger amount than negative. "
   ]
  },
  {
   "cell_type": "markdown",
   "metadata": {},
   "source": [
    "##### creation date"
   ]
  },
  {
   "cell_type": "code",
   "execution_count": 7,
   "metadata": {},
   "outputs": [
    {
     "data": {
      "image/png": "[encoded data removed]",
      "text/plain": [
       "<matplotlib.figure.Figure at 0x11a1befd0>"
      ]
     },
     "metadata": {},
     "output_type": "display_data"
    }
   ],
   "source": [
    "df['creationdate'] = pd.to_datetime(df['creationdate'])\n",
    "cd = df['creationdate'].dt.date.value_counts()\n",
    "\n",
    "plt.figure(figsize=(12,4))\n",
    "ax = plt.subplot(111)\n",
    "ax.bar(cd.index, cd.values, alpha=0.8)\n",
    "ax.xaxis_date()\n",
    "plt.xticks(rotation='vertical')\n",
    "plt.show()"
   ]
  },
  {
   "cell_type": "markdown",
   "metadata": {},
   "source": [
    "The creation date mainly distributed in 2015-07 ~ 2016-3. Also, there is obvious periodicity by week.  \n",
    "Now let 's go deeper with month, weekday and hour. "
   ]
  },
  {
   "cell_type": "code",
   "execution_count": 8,
   "metadata": {},
   "outputs": [
    {
     "data": {
      "image/png": "[encoded data removed]",
      "text/plain": [
       "<matplotlib.figure.Figure at 0x10f55a3c8>"
      ]
     },
     "metadata": {},
     "output_type": "display_data"
    },
    {
     "data": {
      "image/png": "[encoded data removed]",
      "text/plain": [
       "<matplotlib.figure.Figure at 0x119c7f550>"
      ]
     },
     "metadata": {},
     "output_type": "display_data"
    },
    {
     "data": {
      "image/png": "[encoded data removed]",
      "text/plain": [
       "<matplotlib.figure.Figure at 0x11a14b4a8>"
      ]
     },
     "metadata": {},
     "output_type": "display_data"
    }
   ],
   "source": [
    "df['cmonth'] = df['creationdate'].dt.month\n",
    "df['cweekday'] = df['creationdate'].dt.weekday_name\n",
    "df['chour'] = df['creationdate'].dt.hour\n",
    "\n",
    "plt.figure(figsize=(8,6))\n",
    "g = sns.countplot(x='cmonth', hue='simple_journal', data=df)\n",
    "g.figure.get_axes()[0].set_yscale('log')\n",
    "plt.ylabel('Number of Occurrences', fontsize=12)\n",
    "plt.xlabel('months', fontsize=12)\n",
    "plt.show()\n",
    "\n",
    "plt.figure(figsize=(8,6))\n",
    "g = sns.countplot(x='cweekday', hue='simple_journal', data=df)\n",
    "g.figure.get_axes()[0].set_yscale('log')\n",
    "plt.ylabel('Number of Occurrences', fontsize=12)\n",
    "plt.xlabel('weekday', fontsize=12)\n",
    "plt.show()\n",
    "\n",
    "plt.figure(figsize=(8,6))\n",
    "g = sns.countplot(x='chour', hue='simple_journal', data=df)\n",
    "g.figure.get_axes()[0].set_yscale('log')\n",
    "plt.ylabel('Number of Occurrences', fontsize=12)\n",
    "plt.xlabel('hour', fontsize=12)\n",
    "plt.show()"
   ]
  },
  {
   "cell_type": "markdown",
   "metadata": {},
   "source": [
    "Seems there is no significant differences through month, weekday and hour. Maybe there are less fraud in Sundays?  \n",
    "Now let 's go for categorical features."
   ]
  },
  {
   "cell_type": "markdown",
   "metadata": {},
   "source": [
    "##### issuercountrycode  \n",
    "The idea here is to maintain majority(maybe 95%) of the classes, and classify the minority(5%) as 'others'. "
   ]
  },
  {
   "cell_type": "code",
   "execution_count": 9,
   "metadata": {},
   "outputs": [
    {
     "name": "stdout",
     "output_type": "stream",
     "text": [
      "GB portion: 0.690676419337 cumulate: 0.690676419337\n",
      "AU portion: 0.0866789263797 cumulate: 0.777355345717\n",
      "MX portion: 0.0846608949591 cumulate: 0.862016240676\n",
      "SE portion: 0.0822674959192 cumulate: 0.944283736595\n",
      "NZ portion: 0.0172324730872 cumulate: 0.961516209682\n",
      "US portion: 0.0141434386429 cumulate: 0.975659648325\n",
      "CN portion: 0.00589912597888 cumulate: 0.981558774304\n",
      "nan portion: 0.00169776363549 cumulate: 0.98325653794\n",
      "SA portion: 0.000867822385685 cumulate: 0.984124360325\n",
      "KR portion: 0.000864378646059 cumulate: 0.984988738971\n",
      "HK portion: 0.000712854102527 cumulate: 0.985701593074\n",
      "TH portion: 0.00070252288365 cumulate: 0.986404115958\n",
      "CA portion: 0.000681860445895 cumulate: 0.987085976403\n",
      "AE portion: 0.000626760611884 cumulate: 0.987712737015\n",
      "NG portion: 0.000557885819369 cumulate: 0.988270622835\n",
      "LB portion: 0.000544110860866 cumulate: 0.988814733696\n",
      "NO portion: 0.000523448423112 cumulate: 0.989338182119\n",
      "BG portion: 0.000502785985357 cumulate: 0.989840968104\n",
      "IE portion: 0.000451129890971 cumulate: 0.990292097995\n",
      "VN portion: 0.000451129890971 cumulate: 0.990743227886\n",
      "FR portion: 0.000440798672094 cumulate: 0.991184026558\n",
      "DE portion: 0.000365036400328 cumulate: 0.991549062958\n",
      "NL portion: 0.000354705181451 cumulate: 0.99190376814\n",
      "SG portion: 0.000344373962573 cumulate: 0.992248142102\n",
      "ES portion: 0.000344373962573 cumulate: 0.992592516065\n",
      "KW portion: 0.000303049087065 cumulate: 0.992895565152\n",
      "IN portion: 0.000299605347439 cumulate: 0.9931951705\n",
      "EG portion: 0.000268611690807 cumulate: 0.99346378219\n",
      "MY portion: 0.000268611690807 cumulate: 0.993732393881\n",
      "CY portion: 0.000265167951182 cumulate: 0.993997561832\n",
      "PT portion: 0.000261724211556 cumulate: 0.994259286044\n",
      "BR portion: 0.000244505513427 cumulate: 0.994503791557\n",
      "FI portion: 0.000237618034176 cumulate: 0.994741409592\n",
      "RU portion: 0.000230730554924 cumulate: 0.994972140146\n",
      "JP portion: 0.000223843075673 cumulate: 0.995195983222\n",
      "RO portion: 0.000213511856796 cumulate: 0.995409495079\n",
      "ZA portion: 0.00021006811717 cumulate: 0.995619563196\n",
      "CH portion: 0.000203180637918 cumulate: 0.995822743834\n",
      "AR portion: 0.000199736898293 cumulate: 0.996022480732\n",
      "GR portion: 0.000189405679415 cumulate: 0.996211886412\n",
      "QA portion: 0.00018596193979 cumulate: 0.996397848351\n",
      "IT portion: 0.00018596193979 cumulate: 0.996583810291\n",
      "TR portion: 0.00018596193979 cumulate: 0.996769772231\n",
      "PH portion: 0.000158412022784 cumulate: 0.996928184254\n",
      "TW portion: 0.000151524543532 cumulate: 0.997079708797\n",
      "CO portion: 0.000151524543532 cumulate: 0.997231233341\n",
      "PL portion: 0.000148080803907 cumulate: 0.997379314145\n",
      "DK portion: 0.000134305845404 cumulate: 0.99751361999\n",
      "KZ portion: 0.000123974626526 cumulate: 0.997637594617\n",
      "ID portion: 0.000123974626526 cumulate: 0.997761569243\n",
      "LT portion: 0.000103312188772 cumulate: 0.997864881432\n",
      "UA portion: 9.98684491463e-05 cumulate: 0.997964749881\n",
      "IL portion: 9.98684491463e-05 cumulate: 0.99806461833\n",
      "IS portion: 9.64247095206e-05 cumulate: 0.99816104304\n",
      "LY portion: 7.92060113919e-05 cumulate: 0.998240249051\n",
      "BH portion: 7.57622717662e-05 cumulate: 0.998316011323\n",
      "CL portion: 7.23185321404e-05 cumulate: 0.998388329855\n",
      "PK portion: 7.23185321404e-05 cumulate: 0.998460648387\n",
      "JO portion: 6.5431052889e-05 cumulate: 0.99852607944\n",
      "BE portion: 6.5431052889e-05 cumulate: 0.998591510493\n",
      "LV portion: 6.19873132632e-05 cumulate: 0.998653497806\n",
      "EC portion: 5.85435736375e-05 cumulate: 0.99871204138\n",
      "SI portion: 5.85435736375e-05 cumulate: 0.998770584954\n",
      "GH portion: 5.50998340118e-05 cumulate: 0.998825684788\n",
      "HU portion: 4.82123547603e-05 cumulate: 0.998873897142\n",
      "SK portion: 4.47686151345e-05 cumulate: 0.998918665758\n",
      "KE portion: 4.47686151345e-05 cumulate: 0.998963434373\n",
      "MT portion: 4.13248755088e-05 cumulate: 0.999004759248\n",
      "AZ portion: 4.13248755088e-05 cumulate: 0.999046084124\n",
      "LU portion: 4.13248755088e-05 cumulate: 0.999087408999\n",
      "MO portion: 3.78811358831e-05 cumulate: 0.999125290135\n",
      "RS portion: 3.44373962573e-05 cumulate: 0.999159727531\n",
      "PA portion: 3.44373962573e-05 cumulate: 0.999194164928\n",
      "GE portion: 3.44373962573e-05 cumulate: 0.999228602324\n",
      "LK portion: 3.44373962573e-05 cumulate: 0.99926303972\n",
      "AO portion: 3.09936566316e-05 cumulate: 0.999294033377\n",
      "AT portion: 3.09936566316e-05 cumulate: 0.999325027033\n",
      "BM portion: 3.09936566316e-05 cumulate: 0.99935602069\n",
      "PE portion: 3.09936566316e-05 cumulate: 0.999387014347\n",
      "GI portion: 3.09936566316e-05 cumulate: 0.999418008003\n",
      "AL portion: 3.09936566316e-05 cumulate: 0.99944900166\n",
      "HR portion: 2.75499170059e-05 cumulate: 0.999476551577\n",
      "OM portion: 2.41061773801e-05 cumulate: 0.999500657754\n",
      "UY portion: 2.41061773801e-05 cumulate: 0.999524763932\n",
      "BN portion: 2.41061773801e-05 cumulate: 0.999548870109\n",
      "MU portion: 2.41061773801e-05 cumulate: 0.999572976286\n",
      "TZ portion: 2.41061773801e-05 cumulate: 0.999597082464\n",
      "ZM portion: 2.06624377544e-05 cumulate: 0.999617744902\n",
      "MK portion: 2.06624377544e-05 cumulate: 0.999638407339\n",
      "BS portion: 1.72186981287e-05 cumulate: 0.999655626037\n",
      "HN portion: 1.72186981287e-05 cumulate: 0.999672844736\n",
      "BD portion: 1.37749585029e-05 cumulate: 0.999686619694\n",
      "ZW portion: 1.37749585029e-05 cumulate: 0.999700394653\n",
      "VG portion: 1.37749585029e-05 cumulate: 0.999714169611\n",
      "EE portion: 1.37749585029e-05 cumulate: 0.99972794457\n",
      "BB portion: 1.37749585029e-05 cumulate: 0.999741719528\n",
      "TT portion: 1.37749585029e-05 cumulate: 0.999755494487\n",
      "VE portion: 1.37749585029e-05 cumulate: 0.999769269445\n",
      "BA portion: 1.37749585029e-05 cumulate: 0.999783044404\n",
      "ZZ portion: 1.37749585029e-05 cumulate: 0.999796819362\n",
      "MN portion: 1.03312188772e-05 cumulate: 0.999807150581\n",
      "PR portion: 1.03312188772e-05 cumulate: 0.9998174818\n",
      "LA portion: 1.03312188772e-05 cumulate: 0.999827813019\n",
      "SV portion: 1.03312188772e-05 cumulate: 0.999838144238\n",
      "BW portion: 1.03312188772e-05 cumulate: 0.999848475456\n",
      "AD portion: 6.88747925147e-06 cumulate: 0.999855362936\n",
      "GT portion: 6.88747925147e-06 cumulate: 0.999862250415\n",
      "KY portion: 6.88747925147e-06 cumulate: 0.999869137894\n",
      "CM portion: 6.88747925147e-06 cumulate: 0.999876025373\n",
      "BF portion: 6.88747925147e-06 cumulate: 0.999882912853\n",
      "DO portion: 6.88747925147e-06 cumulate: 0.999889800332\n",
      "FJ portion: 6.88747925147e-06 cumulate: 0.999896687811\n",
      "BO portion: 6.88747925147e-06 cumulate: 0.99990357529\n",
      "BZ portion: 6.88747925147e-06 cumulate: 0.99991046277\n",
      "IQ portion: 6.88747925147e-06 cumulate: 0.999917350249\n",
      "CK portion: 6.88747925147e-06 cumulate: 0.999924237728\n",
      "KH portion: 6.88747925147e-06 cumulate: 0.999931125207\n",
      "MV portion: 3.44373962573e-06 cumulate: 0.999934568947\n",
      "CD portion: 3.44373962573e-06 cumulate: 0.999938012687\n",
      "BJ portion: 3.44373962573e-06 cumulate: 0.999941456426\n",
      "CG portion: 3.44373962573e-06 cumulate: 0.999944900166\n",
      "CV portion: 3.44373962573e-06 cumulate: 0.999948343906\n",
      "CZ portion: 3.44373962573e-06 cumulate: 0.999951787645\n",
      "DZ portion: 3.44373962573e-06 cumulate: 0.999955231385\n",
      "BY portion: 3.44373962573e-06 cumulate: 0.999958675124\n",
      "SB portion: 3.44373962573e-06 cumulate: 0.999962118864\n",
      "ME portion: 3.44373962573e-06 cumulate: 0.999965562604\n",
      "TM portion: 3.44373962573e-06 cumulate: 0.999969006343\n",
      "PY portion: 3.44373962573e-06 cumulate: 0.999972450083\n",
      "AI portion: 3.44373962573e-06 cumulate: 0.999975893823\n",
      "AM portion: 3.44373962573e-06 cumulate: 0.999979337562\n",
      "CW portion: 3.44373962573e-06 cumulate: 0.999982781302\n",
      "MD portion: 3.44373962573e-06 cumulate: 0.999986225041\n",
      "SL portion: 3.44373962573e-06 cumulate: 0.999989668781\n",
      "CR portion: 3.44373962573e-06 cumulate: 0.999993112521\n",
      "TJ portion: 3.44373962573e-06 cumulate: 0.99999655626\n",
      "JM portion: 3.44373962573e-06 cumulate: 1.0\n"
     ]
    },
    {
     "data": {
      "text/plain": [
       "(array(['GB', 'AU', 'MX', 'SE', 'NZ', 'US', 'CN', 'nan', 'SA', 'KR', 'HK',\n",
       "        'TH', 'CA', 'AE', 'NG', 'LB', 'NO', 'BG', 'IE', 'VN', 'FR', 'DE',\n",
       "        'NL', 'SG', 'ES', 'KW', 'IN', 'EG', 'MY', 'CY', 'PT', 'BR', 'FI',\n",
       "        'RU', 'JP', 'RO', 'ZA', 'CH', 'AR', 'GR', 'QA', 'IT', 'TR', 'PH',\n",
       "        'TW', 'CO', 'PL', 'DK', 'KZ', 'ID', 'LT', 'UA', 'IL', 'IS', 'LY',\n",
       "        'BH', 'CL', 'PK', 'JO', 'BE', 'LV', 'EC', 'SI', 'GH', 'HU', 'SK',\n",
       "        'KE', 'MT', 'AZ', 'LU', 'MO', 'RS', 'PA', 'GE', 'LK', 'AO', 'AT',\n",
       "        'BM', 'PE', 'GI', 'AL', 'HR', 'OM', 'UY', 'BN', 'MU', 'TZ', 'ZM',\n",
       "        'MK', 'BS', 'HN', 'BD', 'ZW', 'VG', 'EE', 'BB', 'TT', 'VE', 'BA',\n",
       "        'ZZ', 'MN', 'PR', 'LA', 'SV', 'BW', 'AD', 'GT', 'KY', 'CM', 'BF',\n",
       "        'DO', 'FJ', 'BO', 'BZ', 'IQ', 'CK', 'KH', 'MV', 'CD', 'BJ', 'CG',\n",
       "        'CV', 'CZ', 'DZ', 'BY', 'SB', 'ME', 'TM', 'PY', 'AI', 'AM', 'CW',\n",
       "        'MD', 'SL', 'CR', 'TJ', 'JM'], \n",
       "       dtype='<U3'),\n",
       " array([200560,  25170,  24584,  23889,   5004,   4107,   1713,    493,\n",
       "           252,    251,    207,    204,    198,    182,    162,    158,\n",
       "           152,    146,    131,    131,    128,    106,    103,    100,\n",
       "           100,     88,     87,     78,     78,     77,     76,     71,\n",
       "            69,     67,     65,     62,     61,     59,     58,     55,\n",
       "            54,     54,     54,     46,     44,     44,     43,     39,\n",
       "            36,     36,     30,     29,     29,     28,     23,     22,\n",
       "            21,     21,     19,     19,     18,     17,     17,     16,\n",
       "            14,     13,     13,     12,     12,     12,     11,     10,\n",
       "            10,     10,     10,      9,      9,      9,      9,      9,\n",
       "             9,      8,      7,      7,      7,      7,      7,      6,\n",
       "             6,      5,      5,      4,      4,      4,      4,      4,\n",
       "             4,      4,      4,      4,      3,      3,      3,      3,\n",
       "             3,      2,      2,      2,      2,      2,      2,      2,\n",
       "             2,      2,      2,      2,      2,      1,      1,      1,\n",
       "             1,      1,      1,      1,      1,      1,      1,      1,\n",
       "             1,      1,      1,      1,      1,      1,      1,      1,\n",
       "             1]))"
      ]
     },
     "execution_count": 9,
     "metadata": {},
     "output_type": "execute_result"
    }
   ],
   "source": [
    "component(df['issuercountrycode'].values)"
   ]
  },
  {
   "cell_type": "markdown",
   "metadata": {},
   "source": [
    "Here we selected GB, AU, MX, SE, NZ(96%). "
   ]
  },
  {
   "cell_type": "code",
   "execution_count": 10,
   "metadata": {},
   "outputs": [
    {
     "name": "stderr",
     "output_type": "stream",
     "text": [
      "/Users/shijianzhong/anaconda/envs/py36/lib/python3.6/site-packages/pandas/core/indexing.py:141: SettingWithCopyWarning: \n",
      "A value is trying to be set on a copy of a slice from a DataFrame\n",
      "\n",
      "See the caveats in the documentation: http://pandas.pydata.org/pandas-docs/stable/indexing.html#indexing-view-versus-copy\n",
      "  self._setitem_with_indexer(indexer, value)\n"
     ]
    }
   ],
   "source": [
    "issuercountrycode_filter = set(['GB', 'AU', 'MX', 'SE', 'NZ', 'US', 'CN'])\n",
    "df['issuercountrycode'].ix[df['issuercountrycode'].isin(issuercountrycode_filter) == False] = 'other'"
   ]
  },
  {
   "cell_type": "code",
   "execution_count": 11,
   "metadata": {},
   "outputs": [
    {
     "name": "stdout",
     "output_type": "stream",
     "text": [
      "GB portion: 0.690676419337 cumulate: 0.690676419337\n",
      "AU portion: 0.0866789263797 cumulate: 0.777355345717\n",
      "MX portion: 0.0846608949591 cumulate: 0.862016240676\n",
      "SE portion: 0.0822674959192 cumulate: 0.944283736595\n",
      "other portion: 0.0184412256958 cumulate: 0.962724962291\n",
      "NZ portion: 0.0172324730872 cumulate: 0.979957435378\n",
      "US portion: 0.0141434386429 cumulate: 0.994100874021\n",
      "CN portion: 0.00589912597888 cumulate: 1.0\n"
     ]
    },
    {
     "data": {
      "text/plain": [
       "(array(['GB', 'AU', 'MX', 'SE', 'other', 'NZ', 'US', 'CN'], \n",
       "       dtype='<U5'),\n",
       " array([200560,  25170,  24584,  23889,   5355,   5004,   4107,   1713]))"
      ]
     },
     "execution_count": 11,
     "metadata": {},
     "output_type": "execute_result"
    }
   ],
   "source": [
    "component(df['issuercountrycode'].values)"
   ]
  },
  {
   "cell_type": "markdown",
   "metadata": {},
   "source": [
    "Now visualize:"
   ]
  },
  {
   "cell_type": "code",
   "execution_count": 12,
   "metadata": {},
   "outputs": [
    {
     "data": {
      "image/png": "[encoded data removed]",
      "text/plain": [
       "<matplotlib.figure.Figure at 0x12a2c9a90>"
      ]
     },
     "metadata": {},
     "output_type": "display_data"
    }
   ],
   "source": [
    "plt.figure(figsize=(8,4))\n",
    "g = sns.countplot(x='issuercountrycode', hue='simple_journal', data=df)\n",
    "g.figure.get_axes()[0].set_yscale('log')\n",
    "plt.ylabel('Number of Occurrences', fontsize=12)\n",
    "plt.xlabel('issuercountrycode', fontsize=12)\n",
    "plt.show()"
   ]
  },
  {
   "cell_type": "markdown",
   "metadata": {},
   "source": [
    "issuercountrycode can be significant  \n",
    "Then let 's go through other categorical features with the same method:"
   ]
  },
  {
   "cell_type": "markdown",
   "metadata": {},
   "source": [
    "##### txvariantcode"
   ]
  },
  {
   "cell_type": "code",
   "execution_count": 13,
   "metadata": {},
   "outputs": [
    {
     "name": "stderr",
     "output_type": "stream",
     "text": [
      "/Users/shijianzhong/anaconda/envs/py36/lib/python3.6/site-packages/pandas/core/indexing.py:141: SettingWithCopyWarning: \n",
      "A value is trying to be set on a copy of a slice from a DataFrame\n",
      "\n",
      "See the caveats in the documentation: http://pandas.pydata.org/pandas-docs/stable/indexing.html#indexing-view-versus-copy\n",
      "  self._setitem_with_indexer(indexer, value)\n"
     ]
    },
    {
     "data": {
      "image/png": "[encoded data removed]",
      "text/plain": [
       "<matplotlib.figure.Figure at 0x119256278>"
      ]
     },
     "metadata": {},
     "output_type": "display_data"
    }
   ],
   "source": [
    "txvariantcode_filter = set(['visadebit', 'mccredit', 'mcdebit', 'visaclassic', 'visaplatinum', 'visagold', 'visa'])\n",
    "df['txvariantcode'].ix[df['txvariantcode'].isin(txvariantcode_filter) == False] = 'other'\n",
    "plt.figure(figsize=(8,4))\n",
    "g = sns.countplot(x='txvariantcode', hue='simple_journal', data=df)\n",
    "g.figure.get_axes()[0].set_yscale('log')\n",
    "plt.ylabel('Number of Occurrences', fontsize=12)\n",
    "plt.xlabel('txvariantcode', fontsize=12)\n",
    "plt.xticks(rotation=90)\n",
    "plt.show()"
   ]
  },
  {
   "cell_type": "markdown",
   "metadata": {},
   "source": [
    "##### currencycode"
   ]
  },
  {
   "cell_type": "code",
   "execution_count": 15,
   "metadata": {},
   "outputs": [
    {
     "data": {
      "image/png": "[encoded data removed]",
      "text/plain": [
       "<matplotlib.figure.Figure at 0x11ae57550>"
      ]
     },
     "metadata": {},
     "output_type": "display_data"
    }
   ],
   "source": [
    "plt.figure(figsize=(8,4))\n",
    "g = sns.countplot(x='currencycode', hue='simple_journal', data=df)\n",
    "g.figure.get_axes()[0].set_yscale('log')\n",
    "plt.ylabel('Number of Occurrences', fontsize=12)\n",
    "plt.xlabel('txvariantcode', fontsize=12)\n",
    "#plt.xticks(rotation=90)\n",
    "plt.show()"
   ]
  },
  {
   "cell_type": "markdown",
   "metadata": {},
   "source": [
    "##### shoppercountrycode"
   ]
  },
  {
   "cell_type": "code",
   "execution_count": 18,
   "metadata": {},
   "outputs": [
    {
     "name": "stderr",
     "output_type": "stream",
     "text": [
      "/Users/shijianzhong/anaconda/envs/py36/lib/python3.6/site-packages/pandas/core/indexing.py:141: SettingWithCopyWarning: \n",
      "A value is trying to be set on a copy of a slice from a DataFrame\n",
      "\n",
      "See the caveats in the documentation: http://pandas.pydata.org/pandas-docs/stable/indexing.html#indexing-view-versus-copy\n",
      "  self._setitem_with_indexer(indexer, value)\n"
     ]
    },
    {
     "data": {
      "image/png": "[encoded data removed]",
      "text/plain": [
       "<matplotlib.figure.Figure at 0x11bdd0f98>"
      ]
     },
     "metadata": {},
     "output_type": "display_data"
    }
   ],
   "source": [
    "shoppercountrycode_filter = set(['GB', 'MX', 'AU', 'SE', 'NZ', 'US'])\n",
    "df['shoppercountrycode'].ix[df['shoppercountrycode'].isin(shoppercountrycode_filter) == False] = 'other'\n",
    "\n",
    "plt.figure(figsize=(8,4))\n",
    "g = sns.countplot(x='shoppercountrycode', hue='simple_journal', data=df)\n",
    "g.figure.get_axes()[0].set_yscale('log')\n",
    "plt.ylabel('Number of Occurrences', fontsize=12)\n",
    "plt.xlabel('shoppercountrycode', fontsize=12)\n",
    "plt.show()"
   ]
  },
  {
   "cell_type": "markdown",
   "metadata": {},
   "source": [
    "##### shopperinteraction"
   ]
  },
  {
   "cell_type": "code",
   "execution_count": 20,
   "metadata": {},
   "outputs": [
    {
     "data": {
      "image/png": "[encoded data removed]",
      "text/plain": [
       "<matplotlib.figure.Figure at 0x11cf23b00>"
      ]
     },
     "metadata": {},
     "output_type": "display_data"
    }
   ],
   "source": [
    "plt.figure(figsize=(8,4))\n",
    "g = sns.countplot(x='shopperinteraction', hue='simple_journal', data=df)\n",
    "g.figure.get_axes()[0].set_yscale('log')\n",
    "plt.ylabel('Number of Occurrences', fontsize=12)\n",
    "plt.xlabel('shopperinteraction', fontsize=12)\n",
    "plt.show()"
   ]
  },
  {
   "cell_type": "markdown",
   "metadata": {},
   "source": [
    "##### cardverificationcodesupplied"
   ]
  },
  {
   "cell_type": "code",
   "execution_count": 21,
   "metadata": {},
   "outputs": [
    {
     "data": {
      "image/png": "[encoded data removed]",
      "text/plain": [
       "<matplotlib.figure.Figure at 0x11e7e73c8>"
      ]
     },
     "metadata": {},
     "output_type": "display_data"
    }
   ],
   "source": [
    "plt.figure(figsize=(8,4))\n",
    "g = sns.countplot(x='cardverificationcodesupplied', hue='simple_journal', data=df)\n",
    "g.figure.get_axes()[0].set_yscale('log')\n",
    "plt.ylabel('Number of Occurrences', fontsize=12)\n",
    "plt.xlabel('cardverificationcodesupplied', fontsize=12)\n",
    "plt.show()"
   ]
  },
  {
   "cell_type": "markdown",
   "metadata": {},
   "source": [
    "##### cvcresponsecode"
   ]
  },
  {
   "cell_type": "code",
   "execution_count": 22,
   "metadata": {},
   "outputs": [
    {
     "name": "stderr",
     "output_type": "stream",
     "text": [
      "/Users/shijianzhong/anaconda/envs/py36/lib/python3.6/site-packages/pandas/core/indexing.py:141: SettingWithCopyWarning: \n",
      "A value is trying to be set on a copy of a slice from a DataFrame\n",
      "\n",
      "See the caveats in the documentation: http://pandas.pydata.org/pandas-docs/stable/indexing.html#indexing-view-versus-copy\n",
      "  self._setitem_with_indexer(indexer, value)\n"
     ]
    },
    {
     "data": {
      "image/png": "[encoded data removed]",
      "text/plain": [
       "<matplotlib.figure.Figure at 0x11ceebe48>"
      ]
     },
     "metadata": {},
     "output_type": "display_data"
    }
   ],
   "source": [
    "df['cvcresponsecode'].ix[df['cvcresponsecode']>3] = 3\n",
    "\n",
    "plt.figure(figsize=(8,4))\n",
    "g = sns.countplot(x='cvcresponsecode', hue='simple_journal', data=df)\n",
    "g.figure.get_axes()[0].set_yscale('log')\n",
    "plt.ylabel('Number of Occurrences', fontsize=12)\n",
    "plt.xlabel('cvcresponsecode', fontsize=12)\n",
    "plt.show()"
   ]
  },
  {
   "cell_type": "markdown",
   "metadata": {},
   "source": [
    "##### accountcode"
   ]
  },
  {
   "cell_type": "code",
   "execution_count": 23,
   "metadata": {},
   "outputs": [
    {
     "data": {
      "image/png": "[encoded data removed]",
      "text/plain": [
       "<matplotlib.figure.Figure at 0x119d6af28>"
      ]
     },
     "metadata": {},
     "output_type": "display_data"
    }
   ],
   "source": [
    "plt.figure(figsize=(8,4))\n",
    "g = sns.countplot(x='accountcode', hue='simple_journal', data=df)\n",
    "g.figure.get_axes()[0].set_yscale('log')\n",
    "plt.ylabel('Number of Occurrences', fontsize=12)\n",
    "plt.xlabel('accountcode', fontsize=12)\n",
    "plt.show()"
   ]
  },
  {
   "cell_type": "markdown",
   "metadata": {},
   "source": [
    "Now let 's go for id features.  \n",
    "Example idea of using id features can be check the frequency of transactions in one id. A frequent user is assumed to be more reliable. "
   ]
  },
  {
   "cell_type": "code",
   "execution_count": null,
   "metadata": {
    "collapsed": true
   },
   "outputs": [],
   "source": []
  }
 ],
 "metadata": {
  "kernelspec": {
   "display_name": "Python 3",
   "language": "python",
   "name": "python3"
  },
  "language_info": {
   "codemirror_mode": {
    "name": "ipython",
    "version": 3
   },
   "file_extension": ".py",
   "mimetype": "text/x-python",
   "name": "python",
   "nbconvert_exporter": "python",
   "pygments_lexer": "ipython3",
   "version": "3.6.1"
  }
 },
 "nbformat": 4,
 "nbformat_minor": 2
}
