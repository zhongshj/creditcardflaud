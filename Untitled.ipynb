{
 "cells": [
  {
   "cell_type": "code",
   "execution_count": 1,
   "metadata": {
    "collapsed": true
   },
   "outputs": [],
   "source": [
    "import numpy as np\n",
    "import pandas as pd\n",
    "import matplotlib.pyplot as plt\n",
    "\n",
    "%matplotlib inline\n"
   ]
  },
  {
   "cell_type": "markdown",
   "metadata": {},
   "source": [
    "#### Read dataset"
   ]
  },
  {
   "cell_type": "code",
   "execution_count": 48,
   "metadata": {
    "scrolled": true
   },
   "outputs": [
    {
     "name": "stderr",
     "output_type": "stream",
     "text": [
      "/Users/shijianzhong/anaconda/envs/py36/lib/python3.6/site-packages/pandas/core/indexing.py:141: SettingWithCopyWarning: \n",
      "A value is trying to be set on a copy of a slice from a DataFrame\n",
      "\n",
      "See the caveats in the documentation: http://pandas.pydata.org/pandas-docs/stable/indexing.html#indexing-view-versus-copy\n",
      "  self._setitem_with_indexer(indexer, value)\n"
     ]
    },
    {
     "data": {
      "text/html": [
       "<div>\n",
       "<table border=\"1\" class=\"dataframe\">\n",
       "  <thead>\n",
       "    <tr style=\"text-align: right;\">\n",
       "      <th></th>\n",
       "      <th>txid</th>\n",
       "      <th>bookingdate</th>\n",
       "      <th>issuercountrycode</th>\n",
       "      <th>txvariantcode</th>\n",
       "      <th>bin</th>\n",
       "      <th>amount</th>\n",
       "      <th>currencycode</th>\n",
       "      <th>shoppercountrycode</th>\n",
       "      <th>shopperinteraction</th>\n",
       "      <th>simple_journal</th>\n",
       "      <th>cardverificationcodesupplied</th>\n",
       "      <th>cvcresponsecode</th>\n",
       "      <th>creationdate</th>\n",
       "      <th>accountcode</th>\n",
       "      <th>mail_id</th>\n",
       "      <th>ip_id</th>\n",
       "      <th>card_id</th>\n",
       "    </tr>\n",
       "  </thead>\n",
       "  <tbody>\n",
       "    <tr>\n",
       "      <th>0</th>\n",
       "      <td>1</td>\n",
       "      <td>2015-11-09 14:26:51</td>\n",
       "      <td>MX</td>\n",
       "      <td>mccredit</td>\n",
       "      <td>530056.0</td>\n",
       "      <td>3378.0888</td>\n",
       "      <td>MXN</td>\n",
       "      <td>MX</td>\n",
       "      <td>Ecommerce</td>\n",
       "      <td>Chargeback</td>\n",
       "      <td>True</td>\n",
       "      <td>0</td>\n",
       "      <td>2015-07-01 23:03:11</td>\n",
       "      <td>MexicoAccount</td>\n",
       "      <td>email68370</td>\n",
       "      <td>ip111778</td>\n",
       "      <td>card184798</td>\n",
       "    </tr>\n",
       "    <tr>\n",
       "      <th>1</th>\n",
       "      <td>2</td>\n",
       "      <td>2015-11-09 14:27:38</td>\n",
       "      <td>MX</td>\n",
       "      <td>mccredit</td>\n",
       "      <td>547046.0</td>\n",
       "      <td>2340.6819</td>\n",
       "      <td>MXN</td>\n",
       "      <td>MX</td>\n",
       "      <td>Ecommerce</td>\n",
       "      <td>Chargeback</td>\n",
       "      <td>True</td>\n",
       "      <td>0</td>\n",
       "      <td>2015-07-02 04:50:55</td>\n",
       "      <td>MexicoAccount</td>\n",
       "      <td>email101299</td>\n",
       "      <td>ip78749</td>\n",
       "      <td>card151595</td>\n",
       "    </tr>\n",
       "    <tr>\n",
       "      <th>2</th>\n",
       "      <td>3</td>\n",
       "      <td>2015-11-23 16:34:16</td>\n",
       "      <td>MX</td>\n",
       "      <td>mccredit</td>\n",
       "      <td>528843.0</td>\n",
       "      <td>7814.4369</td>\n",
       "      <td>MXN</td>\n",
       "      <td>MX</td>\n",
       "      <td>Ecommerce</td>\n",
       "      <td>Chargeback</td>\n",
       "      <td>True</td>\n",
       "      <td>0</td>\n",
       "      <td>2015-07-02 14:30:28</td>\n",
       "      <td>MexicoAccount</td>\n",
       "      <td>email278604</td>\n",
       "      <td>ip70594</td>\n",
       "      <td>card242142</td>\n",
       "    </tr>\n",
       "    <tr>\n",
       "      <th>3</th>\n",
       "      <td>4</td>\n",
       "      <td>2015-11-23 16:34:51</td>\n",
       "      <td>MX</td>\n",
       "      <td>mccredit</td>\n",
       "      <td>547146.0</td>\n",
       "      <td>5729.1969</td>\n",
       "      <td>MXN</td>\n",
       "      <td>MX</td>\n",
       "      <td>Ecommerce</td>\n",
       "      <td>Chargeback</td>\n",
       "      <td>True</td>\n",
       "      <td>0</td>\n",
       "      <td>2015-07-03 07:53:37</td>\n",
       "      <td>MexicoAccount</td>\n",
       "      <td>email47409</td>\n",
       "      <td>ip113648</td>\n",
       "      <td>card181744</td>\n",
       "    </tr>\n",
       "    <tr>\n",
       "      <th>4</th>\n",
       "      <td>5</td>\n",
       "      <td>2015-11-09 14:26:08</td>\n",
       "      <td>MX</td>\n",
       "      <td>visaclassic</td>\n",
       "      <td>477291.0</td>\n",
       "      <td>4686.5769</td>\n",
       "      <td>MXN</td>\n",
       "      <td>MX</td>\n",
       "      <td>Ecommerce</td>\n",
       "      <td>Chargeback</td>\n",
       "      <td>True</td>\n",
       "      <td>0</td>\n",
       "      <td>2015-07-08 18:35:35</td>\n",
       "      <td>MexicoAccount</td>\n",
       "      <td>email205501</td>\n",
       "      <td>ip83553</td>\n",
       "      <td>card97271</td>\n",
       "    </tr>\n",
       "  </tbody>\n",
       "</table>\n",
       "</div>"
      ],
      "text/plain": [
       "   txid          bookingdate issuercountrycode txvariantcode       bin  \\\n",
       "0     1  2015-11-09 14:26:51                MX      mccredit  530056.0   \n",
       "1     2  2015-11-09 14:27:38                MX      mccredit  547046.0   \n",
       "2     3  2015-11-23 16:34:16                MX      mccredit  528843.0   \n",
       "3     4  2015-11-23 16:34:51                MX      mccredit  547146.0   \n",
       "4     5  2015-11-09 14:26:08                MX   visaclassic  477291.0   \n",
       "\n",
       "      amount currencycode shoppercountrycode shopperinteraction  \\\n",
       "0  3378.0888          MXN                 MX          Ecommerce   \n",
       "1  2340.6819          MXN                 MX          Ecommerce   \n",
       "2  7814.4369          MXN                 MX          Ecommerce   \n",
       "3  5729.1969          MXN                 MX          Ecommerce   \n",
       "4  4686.5769          MXN                 MX          Ecommerce   \n",
       "\n",
       "  simple_journal cardverificationcodesupplied  cvcresponsecode  \\\n",
       "0     Chargeback                         True                0   \n",
       "1     Chargeback                         True                0   \n",
       "2     Chargeback                         True                0   \n",
       "3     Chargeback                         True                0   \n",
       "4     Chargeback                         True                0   \n",
       "\n",
       "          creationdate    accountcode      mail_id     ip_id     card_id  \n",
       "0  2015-07-01 23:03:11  MexicoAccount   email68370  ip111778  card184798  \n",
       "1  2015-07-02 04:50:55  MexicoAccount  email101299   ip78749  card151595  \n",
       "2  2015-07-02 14:30:28  MexicoAccount  email278604   ip70594  card242142  \n",
       "3  2015-07-03 07:53:37  MexicoAccount   email47409  ip113648  card181744  \n",
       "4  2015-07-08 18:35:35  MexicoAccount  email205501   ip83553   card97271  "
      ]
     },
     "execution_count": 48,
     "metadata": {},
     "output_type": "execute_result"
    }
   ],
   "source": [
    "df = pd.read_csv(\"../data_for_student_case.csv\")\n",
    "\n",
    "# change cvc\n",
    "df['cvcresponsecode'].ix[df['cvcresponsecode']>3] = 3\n",
    "\n",
    "# change currency\n",
    "df['amount'].ix[df['currencycode'] == 'MXN'] = df['amount'].ix[df['currencycode'] == 'MXN'] * 0.052131\n",
    "df['amount'].ix[df['currencycode'] == 'AUD'] = df['amount'].ix[df['currencycode'] == 'AUD'] * 0.7349\n",
    "df['amount'].ix[df['currencycode'] == 'NZD'] = df['amount'].ix[df['currencycode'] == 'NZD'] * 0.68966\n",
    "df['amount'].ix[df['currencycode'] == 'GBP'] = df['amount'].ix[df['currencycode'] == 'GBP'] * 1.292625\n",
    "df['amount'].ix[df['currencycode'] == 'SEK'] = df['amount'].ix[df['currencycode'] == 'SEK'] * 0.112851\n",
    "\n",
    "# simplify issuercountrycode\n",
    "issuercountrycode_filter = set(['GB', 'AU', 'MX', 'SE', 'NZ', 'US', 'CN'])\n",
    "df['issuercountrycode'].ix[df['issuercountrycode'].isin(issuercountrycode_filter) == False] = 'other'\n",
    "\n",
    "# simplify txvariantcode\n",
    "txvariantcode_filter = set(['visadebit', 'mccredit', 'mcdebit', 'visaclassic', 'visaplatinum', 'visagold', 'visa'])\n",
    "df['txvariantcode'].ix[df['txvariantcode'].isin(txvariantcode_filter) == False] = 'other'\n",
    "\n",
    "# simplify shoppercountrycode\n",
    "shoppercountrycode_filter = set(['GB', 'MX', 'AU', 'SE', 'NZ', 'US'])\n",
    "df['shoppercountrycode'].ix[df['shoppercountrycode'].isin(shoppercountrycode_filter) == False] = 'other'\n",
    "\n",
    "df.head()"
   ]
  },
  {
   "cell_type": "markdown",
   "metadata": {},
   "source": [
    "#### set labels"
   ]
  },
  {
   "cell_type": "code",
   "execution_count": 3,
   "metadata": {
    "scrolled": true
   },
   "outputs": [
    {
     "name": "stderr",
     "output_type": "stream",
     "text": [
      "/Users/shijianzhong/anaconda/envs/py36/lib/python3.6/site-packages/pandas/core/indexing.py:141: SettingWithCopyWarning: \n",
      "A value is trying to be set on a copy of a slice from a DataFrame\n",
      "\n",
      "See the caveats in the documentation: http://pandas.pydata.org/pandas-docs/stable/indexing.html#indexing-view-versus-copy\n",
      "  self._setitem_with_indexer(indexer, value)\n"
     ]
    }
   ],
   "source": [
    "df = df[df['simple_journal'] != 'Refused']\n",
    "df['simple_journal'].ix[df['simple_journal'] == 'Settled'] = 1\n",
    "df['simple_journal'].ix[df['simple_journal'] == 'Chargeback'] = 0\n",
    "\n",
    "df['simple_journal'].value_counts()\n",
    "\n",
    "df['cardverificationcodesupplied'].ix[df['cardverificationcodesupplied'] == True] = 1\n",
    "df['cardverificationcodesupplied'].ix[df['cardverificationcodesupplied'] == False] = 0\n",
    "df['cardverificationcodesupplied'].fillna(2,inplace=True)\n"
   ]
  },
  {
   "cell_type": "code",
   "execution_count": 4,
   "metadata": {},
   "outputs": [
    {
     "name": "stdout",
     "output_type": "stream",
     "text": [
      "issuercountrycode ['MX' 'other' 'US' 'CN' 'AU' 'NZ' 'SE' 'GB']\n",
      "txvariantcode ['mccredit' 'visaclassic' 'mcdebit' 'visagold' 'visaplatinum' 'visadebit'\n",
      " 'other' 'visa']\n",
      "currencycode ['MXN' 'AUD' 'NZD' 'GBP' 'SEK']\n",
      "shoppercountrycode ['MX' 'US' 'other' 'NZ' 'AU' 'GB' 'SE']\n",
      "shopperinteraction ['Ecommerce' 'ContAuth' 'POS']\n",
      "cardverificationcodesupplied [1 0 2]\n",
      "cvcresponsecode [0 1 3 2]\n",
      "accountcode ['MexicoAccount' 'APACAccount' 'UKAccount' 'SwedenAccount']\n"
     ]
    }
   ],
   "source": [
    "features = ['issuercountrycode', 'txvariantcode', 'currencycode', 'shoppercountrycode', 'shopperinteraction', 'cardverificationcodesupplied', 'cvcresponsecode', 'accountcode']\n",
    "for feature in features:\n",
    "    print(feature,df[feature].unique())"
   ]
  },
  {
   "cell_type": "code",
   "execution_count": 5,
   "metadata": {},
   "outputs": [
    {
     "data": {
      "text/html": [
       "<div>\n",
       "<table border=\"1\" class=\"dataframe\">\n",
       "  <thead>\n",
       "    <tr style=\"text-align: right;\">\n",
       "      <th></th>\n",
       "      <th>issuercountrycode</th>\n",
       "      <th>txvariantcode</th>\n",
       "      <th>amount</th>\n",
       "      <th>currencycode</th>\n",
       "      <th>shoppercountrycode</th>\n",
       "      <th>shopperinteraction</th>\n",
       "      <th>simple_journal</th>\n",
       "      <th>cardverificationcodesupplied</th>\n",
       "      <th>cvcresponsecode</th>\n",
       "      <th>accountcode</th>\n",
       "    </tr>\n",
       "  </thead>\n",
       "  <tbody>\n",
       "    <tr>\n",
       "      <th>0</th>\n",
       "      <td>3</td>\n",
       "      <td>0</td>\n",
       "      <td>3378.0888</td>\n",
       "      <td>2</td>\n",
       "      <td>2</td>\n",
       "      <td>1</td>\n",
       "      <td>0</td>\n",
       "      <td>1</td>\n",
       "      <td>0</td>\n",
       "      <td>1</td>\n",
       "    </tr>\n",
       "    <tr>\n",
       "      <th>1</th>\n",
       "      <td>3</td>\n",
       "      <td>0</td>\n",
       "      <td>2340.6819</td>\n",
       "      <td>2</td>\n",
       "      <td>2</td>\n",
       "      <td>1</td>\n",
       "      <td>0</td>\n",
       "      <td>1</td>\n",
       "      <td>0</td>\n",
       "      <td>1</td>\n",
       "    </tr>\n",
       "    <tr>\n",
       "      <th>2</th>\n",
       "      <td>3</td>\n",
       "      <td>0</td>\n",
       "      <td>7814.4369</td>\n",
       "      <td>2</td>\n",
       "      <td>2</td>\n",
       "      <td>1</td>\n",
       "      <td>0</td>\n",
       "      <td>1</td>\n",
       "      <td>0</td>\n",
       "      <td>1</td>\n",
       "    </tr>\n",
       "    <tr>\n",
       "      <th>3</th>\n",
       "      <td>3</td>\n",
       "      <td>0</td>\n",
       "      <td>5729.1969</td>\n",
       "      <td>2</td>\n",
       "      <td>2</td>\n",
       "      <td>1</td>\n",
       "      <td>0</td>\n",
       "      <td>1</td>\n",
       "      <td>0</td>\n",
       "      <td>1</td>\n",
       "    </tr>\n",
       "    <tr>\n",
       "      <th>4</th>\n",
       "      <td>3</td>\n",
       "      <td>4</td>\n",
       "      <td>4686.5769</td>\n",
       "      <td>2</td>\n",
       "      <td>2</td>\n",
       "      <td>1</td>\n",
       "      <td>0</td>\n",
       "      <td>1</td>\n",
       "      <td>0</td>\n",
       "      <td>1</td>\n",
       "    </tr>\n",
       "  </tbody>\n",
       "</table>\n",
       "</div>"
      ],
      "text/plain": [
       "   issuercountrycode  txvariantcode     amount  currencycode  \\\n",
       "0                  3              0  3378.0888             2   \n",
       "1                  3              0  2340.6819             2   \n",
       "2                  3              0  7814.4369             2   \n",
       "3                  3              0  5729.1969             2   \n",
       "4                  3              4  4686.5769             2   \n",
       "\n",
       "   shoppercountrycode  shopperinteraction simple_journal  \\\n",
       "0                   2                   1              0   \n",
       "1                   2                   1              0   \n",
       "2                   2                   1              0   \n",
       "3                   2                   1              0   \n",
       "4                   2                   1              0   \n",
       "\n",
       "   cardverificationcodesupplied  cvcresponsecode  accountcode  \n",
       "0                             1                0            1  \n",
       "1                             1                0            1  \n",
       "2                             1                0            1  \n",
       "3                             1                0            1  \n",
       "4                             1                0            1  "
      ]
     },
     "execution_count": 5,
     "metadata": {},
     "output_type": "execute_result"
    }
   ],
   "source": [
    "from sklearn.preprocessing import LabelEncoder\n",
    "def encode_features(df):\n",
    "    features = ['issuercountrycode', 'txvariantcode', 'currencycode', 'shoppercountrycode', 'shopperinteraction', 'cvcresponsecode', 'accountcode']\n",
    "    \n",
    "    for feature in features:\n",
    "        le = LabelEncoder()\n",
    "        le = le.fit(df[feature])\n",
    "        df[feature] = le.transform(df[feature])\n",
    "    return df\n",
    "    \n",
    "df = encode_features(df)\n",
    "df = df.drop(['txid', 'bookingdate', 'bin', 'creationdate', 'mail_id', 'ip_id', 'card_id'], axis=1)\n",
    "df.head()"
   ]
  },
  {
   "cell_type": "code",
   "execution_count": 6,
   "metadata": {},
   "outputs": [],
   "source": [
    "from imblearn.over_sampling import  SMOTE \n",
    "sm = SMOTE(random_state=42)"
   ]
  },
  {
   "cell_type": "markdown",
   "metadata": {},
   "source": [
    "#### Train classifier"
   ]
  },
  {
   "cell_type": "code",
   "execution_count": 43,
   "metadata": {},
   "outputs": [],
   "source": [
    "from sklearn.model_selection import train_test_split\n",
    "\n",
    "features = ['issuercountrycode', 'txvariantcode', 'currencycode', 'shoppercountrycode', 'shopperinteraction', 'cardverificationcodesupplied', 'cvcresponsecode', 'accountcode']\n",
    "X_all = df[features]\n",
    "y_all = df['simple_journal']\n",
    "y_all = np.asarray(y_all, dtype=int)\n",
    "num_test = 0.5\n",
    "X_train, X_test, y_train, y_test = train_test_split(X_all, y_all, test_size=num_test, random_state=23)\n",
    "X_smote, y_smote = sm.fit_sample(X_train, y_train)"
   ]
  },
  {
   "cell_type": "code",
   "execution_count": 44,
   "metadata": {},
   "outputs": [
    {
     "data": {
      "text/plain": [
       "RandomForestClassifier(bootstrap=True, class_weight=None, criterion='gini',\n",
       "            max_depth=None, max_features='auto', max_leaf_nodes=None,\n",
       "            min_impurity_split=1e-07, min_samples_leaf=1,\n",
       "            min_samples_split=2, min_weight_fraction_leaf=0.0,\n",
       "            n_estimators=10, n_jobs=1, oob_score=False, random_state=None,\n",
       "            verbose=0, warm_start=False)"
      ]
     },
     "execution_count": 44,
     "metadata": {},
     "output_type": "execute_result"
    }
   ],
   "source": [
    "from sklearn.ensemble import RandomForestClassifier\n",
    "rf = RandomForestClassifier()\n",
    "rf_smote = RandomForestClassifier()\n",
    "rf.fit(X_train, y_train)\n",
    "rf_smote.fit(X_smote, y_smote)\n",
    "\n",
    "# from sklearn.svm import SVC\n",
    "# svc = SVC()\n",
    "# svc_smote = SVC()\n",
    "# svc.fit(X_train, y_train)\n",
    "# svc_smote.fit(X_smote, y_smote)\n"
   ]
  },
  {
   "cell_type": "code",
   "execution_count": 45,
   "metadata": {},
   "outputs": [
    {
     "name": "stdout",
     "output_type": "stream",
     "text": [
      "confusion matrix:\n",
      "[[     0    189]\n",
      " [     0 118329]]\n",
      "confusion matrix(smote):\n",
      "[[   150     39]\n",
      " [ 15284 103045]]\n"
     ]
    },
    {
     "data": {
      "image/png": "[encoded data removed]",
      "text/plain": [
       "<matplotlib.figure.Figure at 0x117467a58>"
      ]
     },
     "metadata": {},
     "output_type": "display_data"
    }
   ],
   "source": [
    "from sklearn.metrics import confusion_matrix\n",
    "from sklearn.metrics import roc_curve\n",
    "from sklearn.metrics import auc\n",
    "\n",
    "y_predict = rf.predict_proba(X_test)[:, 1]\n",
    "y_predict_smote = rf_smote.predict_proba(X_test)[:, 1]\n",
    "\n",
    "print('confusion matrix:')\n",
    "print(confusion_matrix(y_test, rf.predict(X_test)))\n",
    "print('confusion matrix(smote):' )\n",
    "print(confusion_matrix(y_test, rf_smote.predict(X_test)))\n",
    "\n",
    "fpr, tpr, thresholds = roc_curve(y_test, y_predict)\n",
    "roc_auc = auc(fpr, tpr)\n",
    "fpr_smote, tpr_smote, thresholds_smote = roc_curve(y_test, y_predict_smote)\n",
    "roc_auc_smote = auc(fpr_smote, tpr_smote)\n",
    "\n",
    "plt.plot(fpr, tpr, label='ROC curve (area = %0.3f)' % roc_auc)\n",
    "plt.plot(fpr_smote, tpr_smote, label='SMOTE curve (area = %0.3f)' % roc_auc_smote)\n",
    "plt.plot([0, 1], [0, 1], 'k--')  # random predictions curve\n",
    "plt.xlim([0.0, 1.0])\n",
    "plt.ylim([0.0, 1.0])\n",
    "plt.xlabel('False Positive Rate or (1 - Specifity)')\n",
    "plt.ylabel('True Positive Rate or (Sensitivity)')\n",
    "plt.title('ROC for RF')\n",
    "plt.legend(loc=\"lower right\")\n",
    "\n",
    "plt.savefig('rf.eps')"
   ]
  },
  {
   "cell_type": "code",
   "execution_count": 46,
   "metadata": {},
   "outputs": [
    {
     "name": "stdout",
     "output_type": "stream",
     "text": [
      "confusion matrix:\n",
      "[[     0    189]\n",
      " [     0 118329]]\n",
      "confusion matrix(smote):\n",
      "[[  169    20]\n",
      " [22233 96096]]\n"
     ]
    },
    {
     "data": {
      "image/png": "[encoded data removed]",
      "text/plain": [
       "<matplotlib.figure.Figure at 0x11c4c2710>"
      ]
     },
     "metadata": {},
     "output_type": "display_data"
    }
   ],
   "source": [
    "from sklearn.linear_model import LogisticRegression\n",
    "\n",
    "# train 2 classifiers\n",
    "lr = LogisticRegression()\n",
    "lr_smote = LogisticRegression()\n",
    "lr.fit(X_train, y_train)\n",
    "lr_smote.fit(X_smote, y_smote)\n",
    "\n",
    "# confusion matrix\n",
    "#y_predict = lr.predict(X_test)\n",
    "#y_predict_smote = lr_smote.predict(X_test)\n",
    "\n",
    "y_predict = lr.predict_proba(X_test)[:, 1]\n",
    "y_predict_smote = lr_smote.predict_proba(X_test)[:, 1]\n",
    "\n",
    "print('confusion matrix:')\n",
    "print(confusion_matrix(y_test, lr.predict(X_test)))\n",
    "print('confusion matrix(smote):' )\n",
    "print(confusion_matrix(y_test, lr_smote.predict(X_test)))\n",
    "\n",
    "\n",
    "# roc plot\n",
    "\n",
    "fpr, tpr, thresholds = roc_curve(y_test, y_predict)\n",
    "roc_auc = auc(fpr, tpr)\n",
    "fpr_smote, tpr_smote, thresholds_smote = roc_curve(y_test, y_predict_smote)\n",
    "roc_auc_smote = auc(fpr_smote, tpr_smote)\n",
    "\n",
    "plt.plot(fpr, tpr, label='ROC curve (area = %0.3f)' % roc_auc)\n",
    "plt.plot(fpr_smote, tpr_smote, label='SMOTE curve (area = %0.3f)' % roc_auc_smote)\n",
    "plt.plot([0, 1], [0, 1], 'k--')  # random predictions curve\n",
    "plt.xlim([0.0, 1.0])\n",
    "plt.ylim([0.0, 1.0])\n",
    "plt.xlabel('False Positive Rate or (1 - Specifity)')\n",
    "plt.ylabel('True Positive Rate or (Sensitivity)')\n",
    "plt.title('ROC for LR')\n",
    "plt.legend(loc=\"lower right\")\n",
    "\n",
    "plt.savefig('lr.eps')"
   ]
  },
  {
   "cell_type": "code",
   "execution_count": 47,
   "metadata": {},
   "outputs": [
    {
     "name": "stdout",
     "output_type": "stream",
     "text": [
      "confusion matrix:\n",
      "[[     0    189]\n",
      " [     0 118329]]\n",
      "confusion matrix(smote):\n",
      "[[  161    28]\n",
      " [20026 98303]]\n"
     ]
    },
    {
     "data": {
      "image/png": "[encoded data removed]",
      "text/plain": [
       "<matplotlib.figure.Figure at 0x11b100550>"
      ]
     },
     "metadata": {},
     "output_type": "display_data"
    }
   ],
   "source": [
    "from sklearn.ensemble import AdaBoostClassifier\n",
    "\n",
    "ada = AdaBoostClassifier()\n",
    "ada_smote = AdaBoostClassifier()\n",
    "ada.fit(X_train, y_train)\n",
    "ada_smote.fit(X_smote, y_smote)\n",
    "\n",
    "# confusion matrix\n",
    "# y_predict = ada.predict(X_test)\n",
    "# y_predict_smote = ada_smote.predict(X_test)\n",
    "\n",
    "y_predict = ada.predict_proba(X_test)[:, 1]\n",
    "y_predict_smote = ada_smote.predict_proba(X_test)[:, 1]\n",
    "\n",
    "print('confusion matrix:')\n",
    "print(confusion_matrix(y_test, ada.predict(X_test)))\n",
    "print('confusion matrix(smote):' )\n",
    "print(confusion_matrix(y_test, ada_smote.predict(X_test)))\n",
    "\n",
    "# roc plot\n",
    "\n",
    "fpr, tpr, thresholds = roc_curve(y_test, y_predict)\n",
    "roc_auc = auc(fpr, tpr)\n",
    "fpr_smote, tpr_smote, thresholds_smote = roc_curve(y_test, y_predict_smote)\n",
    "roc_auc_smote = auc(fpr_smote, tpr_smote)\n",
    "\n",
    "plt.plot(fpr, tpr, label='ROC curve (area = %0.3f)' % roc_auc)\n",
    "plt.plot(fpr_smote, tpr_smote, label='SMOTE curve (area = %0.3f)' % roc_auc_smote)\n",
    "plt.plot([0, 1], [0, 1], 'k--')  # random predictions curve\n",
    "plt.xlim([0.0, 1.0])\n",
    "plt.ylim([0.0, 1.0])\n",
    "plt.xlabel('False Positive Rate or (1 - Specifity)')\n",
    "plt.ylabel('True Positive Rate or (Sensitivity)')\n",
    "plt.title('ROC for Adaboost')\n",
    "plt.legend(loc=\"lower right\")\n",
    "plt.savefig('ada.eps')"
   ]
  },
  {
   "cell_type": "code",
   "execution_count": null,
   "metadata": {
    "collapsed": true
   },
   "outputs": [],
   "source": []
  }
 ],
 "metadata": {
  "kernelspec": {
   "display_name": "Python 3",
   "language": "python",
   "name": "python3"
  },
  "language_info": {
   "codemirror_mode": {
    "name": "ipython",
    "version": 3
   },
   "file_extension": ".py",
   "mimetype": "text/x-python",
   "name": "python",
   "nbconvert_exporter": "python",
   "pygments_lexer": "ipython3",
   "version": "3.6.1"
  }
 },
 "nbformat": 4,
 "nbformat_minor": 2
}
